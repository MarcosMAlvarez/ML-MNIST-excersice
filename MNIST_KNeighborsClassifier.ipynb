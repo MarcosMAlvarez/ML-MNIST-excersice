{
 "cells": [
  {
   "cell_type": "markdown",
   "metadata": {},
   "source": [
    "### MNIST Classification with KNeighborsClassifier"
   ]
  },
  {
   "cell_type": "code",
   "execution_count": 1,
   "metadata": {},
   "outputs": [],
   "source": [
    "from sklearn.datasets import fetch_openml\n",
    "import numpy as np\n",
    "from sklearn.model_selection import cross_val_score\n",
    "from sklearn.preprocessing import StandardScaler\n",
    "\n",
    "mnist = fetch_openml('mnist_784', version=1)\n",
    "\n",
    "X, y = mnist[\"data\"], mnist[\"target\"]\n",
    "y = y.astype(np.uint8)\n",
    "\n",
    "X_train, X_test, y_train, y_test = X[:60000], X[60000:], y[:60000], y[60000:]"
   ]
  },
  {
   "cell_type": "code",
   "execution_count": 2,
   "metadata": {},
   "outputs": [
    {
     "data": {
      "text/plain": [
       "'\\nkn_clf = KNeighborsClassifier()\\n\\n\\nparam_grid = {\\'n_neighbors\\': [4, 10, 15], \\'weights\\': [\\'uniform\\', \\'distance\\']}\\n\\ngrid_search = GridSearchCV(kn_clf, param_grid, scoring=\"accuracy\")\\ngrid_search.fit(X_train, y_train)\\n'"
      ]
     },
     "execution_count": 2,
     "metadata": {},
     "output_type": "execute_result"
    }
   ],
   "source": [
    "#GridSearchCV for setting hyperparameters\n",
    "from sklearn.neighbors import KNeighborsClassifier\n",
    "from sklearn.model_selection import GridSearchCV\n",
    "\n",
    "'''\n",
    "kn_clf = KNeighborsClassifier()\n",
    "\n",
    "\n",
    "param_grid = {'n_neighbors': [4, 10, 15], 'weights': ['uniform', 'distance']}\n",
    "\n",
    "grid_search = GridSearchCV(kn_clf, param_grid, scoring=\"accuracy\")\n",
    "grid_search.fit(X_train, y_train)\n",
    "'''"
   ]
  },
  {
   "cell_type": "code",
   "execution_count": 3,
   "metadata": {},
   "outputs": [
    {
     "data": {
      "text/plain": [
       "KNeighborsClassifier(n_neighbors=4, weights='distance')"
      ]
     },
     "execution_count": 3,
     "metadata": {},
     "output_type": "execute_result"
    }
   ],
   "source": [
    "#Training a KNClassifier with the best estimators\n",
    "#Is the same that using \"grid_search.fit(X_train, y_train)\" \n",
    "\n",
    "kn_clf = KNeighborsClassifier(weights='distance', n_neighbors=4)\n",
    "kn_clf.fit(X_train, y_train)"
   ]
  },
  {
   "cell_type": "code",
   "execution_count": 5,
   "metadata": {},
   "outputs": [],
   "source": [
    "#Same as \"\"y_pred = grid_search.predict(X_test)\"\"\n",
    "\n",
    "y_kn_pred = kn_clf.predict(X_test)"
   ]
  },
  {
   "cell_type": "code",
   "execution_count": 6,
   "metadata": {},
   "outputs": [
    {
     "data": {
      "text/plain": [
       "0.9714"
      ]
     },
     "execution_count": 6,
     "metadata": {},
     "output_type": "execute_result"
    }
   ],
   "source": [
    "from sklearn.metrics import accuracy_score\n",
    "\n",
    "accuracy_score(y_test, y_kn_pred)"
   ]
  },
  {
   "cell_type": "code",
   "execution_count": 9,
   "metadata": {},
   "outputs": [
    {
     "data": {
      "image/png": "[encoded data removed]",
      "text/plain": [
       "<Figure size 288x288 with 1 Axes>"
      ]
     },
     "metadata": {
      "needs_background": "light"
     },
     "output_type": "display_data"
    }
   ],
   "source": [
    "from sklearn.metrics import confusion_matrix\n",
    "import matplotlib.pyplot as plt\n",
    "\n",
    "conf_mx = confusion_matrix(y_test, y_kn_pred)\n",
    "\n",
    "#Divide each value in the confusion matrix by the number of images in the corresponding class\n",
    "#so that you can compare error rates\n",
    "row_sums = conf_mx.sum(axis=1, keepdims=True)\n",
    "norm_conf_mx = conf_mx / row_sums\n",
    "\n",
    "#Fill the diagonal with zeros to keep only the errors\n",
    "np.fill_diagonal(norm_conf_mx, 0)\n",
    "plt.matshow(norm_conf_mx, cmap=plt.cm.gray)\n",
    "plt.show()"
   ]
  },
  {
   "cell_type": "code",
   "execution_count": 10,
   "metadata": {},
   "outputs": [
    {
     "data": {
      "text/plain": [
       "array([[ 973,    1,    1,    0,    0,    1,    3,    1,    0,    0],\n",
       "       [   0, 1132,    2,    0,    0,    0,    1,    0,    0,    0],\n",
       "       [  10,    5,  995,    2,    1,    0,    0,   16,    3,    0],\n",
       "       [   0,    1,    3,  974,    1,   14,    1,    7,    4,    5],\n",
       "       [   1,    5,    0,    0,  950,    0,    4,    3,    0,   19],\n",
       "       [   4,    0,    0,    9,    2,  862,    7,    1,    3,    4],\n",
       "       [   4,    2,    0,    0,    3,    3,  946,    0,    0,    0],\n",
       "       [   0,   17,    4,    0,    3,    0,    0,  994,    0,   10],\n",
       "       [   5,    2,    4,   14,    5,   11,    4,    4,  920,    5],\n",
       "       [   3,    4,    2,    7,    9,    4,    1,   10,    1,  968]],\n",
       "      dtype=int64)"
      ]
     },
     "execution_count": 10,
     "metadata": {},
     "output_type": "execute_result"
    }
   ],
   "source": [
    "conf_mx"
   ]
  },
  {
   "cell_type": "code",
   "execution_count": null,
   "metadata": {},
   "outputs": [],
   "source": []
  }
 ],
 "metadata": {
  "kernelspec": {
   "display_name": "Python 3",
   "language": "python",
   "name": "python3"
  },
  "language_info": {
   "codemirror_mode": {
    "name": "ipython",
    "version": 3
   },
   "file_extension": ".py",
   "mimetype": "text/x-python",
   "name": "python",
   "nbconvert_exporter": "python",
   "pygments_lexer": "ipython3",
   "version": "3.8.5"
  }
 },
 "nbformat": 4,
 "nbformat_minor": 4
}
